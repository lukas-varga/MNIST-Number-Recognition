{
 "cells": [
  {
   "cell_type": "markdown",
   "id": "addressed-transsexual",
   "metadata": {},
   "source": [
    "# MNIST Number Recognition"
   ]
  },
  {
   "cell_type": "markdown",
   "id": "determined-shirt",
   "metadata": {},
   "source": [
    "Follow the instructions and run each code block on working Python 3 environment. Make sure you have installed all given libraries in the section <b>Imports</b>"
   ]
  },
  {
   "cell_type": "markdown",
   "id": "utility-recommendation",
   "metadata": {},
   "source": [
    "## Imports"
   ]
  },
  {
   "cell_type": "markdown",
   "id": "first-lawrence",
   "metadata": {},
   "source": [
    "Run this code block as following ones using <b>Ctrl+Enter</b>"
   ]
  },
  {
   "cell_type": "code",
   "execution_count": 70,
   "id": "directed-collins",
   "metadata": {},
   "outputs": [],
   "source": [
    "import boto3\n",
    "import json\n",
    "from json import JSONEncoder\n",
    "import numpy as np\n",
    "import matplotlib.pyplot as plt"
   ]
  },
  {
   "cell_type": "markdown",
   "id": "random-riding",
   "metadata": {},
   "source": [
    "## User Input"
   ]
  },
  {
   "cell_type": "markdown",
   "id": "indoor-fountain",
   "metadata": {},
   "source": [
    "Change the value <b>1</b> to desired image index <b>(1 - 10 000)</b> from MNIST Test Dataset "
   ]
  },
  {
   "cell_type": "code",
   "execution_count": 74,
   "id": "powerful-evaluation",
   "metadata": {},
   "outputs": [],
   "source": [
    "index = 1"
   ]
  },
  {
   "cell_type": "markdown",
   "id": "legitimate-trance",
   "metadata": {},
   "source": [
    "## Image generation"
   ]
  },
  {
   "cell_type": "markdown",
   "id": "descending-parcel",
   "metadata": {},
   "source": [
    "Below you can see which the image of number is saved on given position in MNIST Test Dataset"
   ]
  },
  {
   "cell_type": "code",
   "execution_count": 78,
   "id": "cosmetic-services",
   "metadata": {},
   "outputs": [
    {
     "data": {
      "text/plain": [
       "<matplotlib.image.AxesImage at 0x7fdf0ba5b470>"
      ]
     },
     "execution_count": 78,
     "metadata": {},
     "output_type": "execute_result"
    },
    {
     "data": {
      "image/png": "[encoded data removed]",
      "text/plain": [
       "<Figure size 360x360 with 1 Axes>"
      ]
     },
     "metadata": {
      "needs_background": "light"
     },
     "output_type": "display_data"
    }
   ],
   "source": [
    "index -= 1\n",
    "\n",
    "class NumpyArrayEncoder(JSONEncoder):\n",
    "    def default(self, obj):\n",
    "        if isinstance(obj, numpy.ndarray):\n",
    "            return obj.tolist()\n",
    "        return JSONEncoder.default(self, obj)\n",
    "    \n",
    "key = 'data.json'\n",
    "bucket = 'mnisthosting'\n",
    "s3_resource = boto3.resource('s3')\n",
    "s3_object = s3_resource.Object(bucket, key)\n",
    "data = s3_object.get()['Body'].read().decode('utf-8')\n",
    "\n",
    "decodedArrays = json.loads(data)\n",
    "finalNumpyArray = numpy.asarray(decodedArrays[\"array\"])\n",
    "#print(\"Decode JSON serialized NumPy array\")\n",
    "\n",
    "img = finalNumpyArray[index].reshape(28,28)\n",
    "fig=plt.figure(figsize=(5, 5))\n",
    "fig.tight_layout()\n",
    "plt.imshow(img)"
   ]
  },
  {
   "cell_type": "markdown",
   "id": "south-billy",
   "metadata": {},
   "source": [
    "## Data for Predictor"
   ]
  },
  {
   "cell_type": "markdown",
   "id": "simple-biology",
   "metadata": {},
   "source": [
    "Please run the cell and <b>copy all</b> generated raw data from image above and paste it into the <b>TextArea</b> in the website"
   ]
  },
  {
   "cell_type": "markdown",
   "id": "premier-starter",
   "metadata": {},
   "source": [
    "https://mnisthosting.s3.eu-central-1.amazonaws.com/index.html"
   ]
  },
  {
   "cell_type": "code",
   "execution_count": 79,
   "id": "automotive-crystal",
   "metadata": {},
   "outputs": [
    {
     "name": "stdout",
     "output_type": "stream",
     "text": [
      "{\"body\": [0.0, 0.0, 0.0, 0.0, 0.0, 0.0, 0.0, 0.0, 0.0, 0.0, 0.0, 0.0, 0.0, 0.0, 0.0, 0.0, 0.0, 0.0, 0.0, 0.0, 0.0, 0.0, 0.0, 0.0, 0.0, 0.0, 0.0, 0.0, 0.0, 0.0, 0.0, 0.0, 0.0, 0.0, 0.0, 0.0, 0.0, 0.0, 0.0, 0.0, 0.0, 0.0, 0.0, 0.0, 0.0, 0.0, 0.0, 0.0, 0.0, 0.0, 0.0, 0.0, 0.0, 0.0, 0.0, 0.0, 0.0, 0.0, 0.0, 0.0, 0.0, 0.0, 0.0, 0.0, 0.0, 0.0, 0.0, 0.0, 0.0, 0.0, 0.0, 0.0, 0.0, 0.0313725508749485, 0.458823561668396, 0.9960784912109375, 0.8627451658248901, 0.3490196168422699, 0.0, 0.0, 0.0, 0.0, 0.0, 0.0, 0.0, 0.0, 0.0, 0.0, 0.0, 0.0, 0.0, 0.0, 0.0, 0.0, 0.0, 0.0, 0.0, 0.0, 0.0, 0.05098039656877518, 0.37254902720451355, 0.8313726186752319, 0.9921569228172302, 0.9921569228172302, 0.9921569228172302, 0.615686297416687, 0.0, 0.0, 0.0, 0.0, 0.0, 0.0, 0.0, 0.0, 0.0, 0.0, 0.0, 0.0, 0.0, 0.0, 0.0, 0.0, 0.0, 0.0, 0.0, 0.062745101749897, 0.37254902720451355, 0.8196079134941101, 0.9921569228172302, 0.9921569228172302, 0.9921569228172302, 0.960784375667572, 0.4901961088180542, 0.07058823853731155, 0.0, 0.0, 0.0, 0.0, 0.0, 0.0, 0.0, 0.0, 0.0, 0.0, 0.0, 0.0, 0.0, 0.0, 0.0, 0.0, 0.0, 0.1568627506494522, 0.3764706254005432, 0.8078432083129883, 0.9921569228172302, 0.9960784912109375, 0.9921569228172302, 0.9921569228172302, 0.7764706611633301, 0.250980406999588, 0.0, 0.0, 0.0, 0.0, 0.0, 0.0, 0.0, 0.0, 0.0, 0.0, 0.0, 0.0, 0.0, 0.0, 0.0, 0.0, 0.0, 0.1725490242242813, 0.7137255072593689, 0.9411765336990356, 0.9921569228172302, 0.9921569228172302, 0.9921569228172302, 0.9960784912109375, 0.9921569228172302, 0.7764706611633301, 0.0941176563501358, 0.0, 0.0, 0.0, 0.0, 0.0, 0.0, 0.0, 0.0, 0.0, 0.0, 0.0, 0.0, 0.0, 0.0, 0.0, 0.0, 0.0, 0.0, 0.05882353335618973, 0.2352941334247589, 0.2352941334247589, 0.658823549747467, 0.9921569228172302, 0.9921569228172302, 0.9960784912109375, 0.7843137979507446, 0.09019608050584793, 0.0, 0.0, 0.0, 0.0, 0.0, 0.0, 0.0, 0.0, 0.0, 0.0, 0.0, 0.0, 0.0, 0.0, 0.0, 0.0, 0.0, 0.0, 0.0, 0.0, 0.0, 0.27450981736183167, 0.9686275124549866, 0.9921569228172302, 0.9921569228172302, 0.960784375667572, 0.08235294371843338, 0.0, 0.0, 0.0, 0.0, 0.0, 0.0, 0.0, 0.0, 0.0, 0.0, 0.0, 0.0, 0.0, 0.0, 0.0, 0.0, 0.0, 0.0, 0.0, 0.0, 0.0, 0.29411765933036804, 0.8117647767066956, 0.9921569228172302, 0.9921569228172302, 0.8117647767066956, 0.3607843220233917, 0.0, 0.0, 0.0, 0.0, 0.0, 0.0, 0.0, 0.0, 0.0, 0.0, 0.0, 0.0, 0.0, 0.0, 0.0, 0.0, 0.0, 0.0, 0.0, 0.0, 0.0, 0.30980393290519714, 0.8588235974311829, 0.9921569228172302, 0.9921569228172302, 0.9921569228172302, 0.5411764979362488, 0.0, 0.0, 0.0, 0.0, 0.0, 0.0, 0.0, 0.0, 0.0, 0.0, 0.0, 0.0, 0.0, 0.0, 0.0, 0.0, 0.0, 0.0, 0.0, 0.0, 0.0, 0.4117647409439087, 0.9803922176361084, 0.9921569228172302, 0.9921569228172302, 0.9921569228172302, 0.13333334028720856, 0.003921568859368563, 0.0, 0.0, 0.0, 0.0, 0.0, 0.0, 0.0, 0.0, 0.0, 0.0, 0.0, 0.0, 0.0, 0.0, 0.0, 0.0, 0.0, 0.0, 0.0, 0.0, 0.37254902720451355, 0.9960784912109375, 0.9960784912109375, 0.9960784912109375, 0.9960784912109375, 0.3686274588108063, 0.0, 0.0, 0.0, 0.0, 0.0, 0.011764707043766975, 0.05098039656877518, 0.05098039656877518, 0.05098039656877518, 0.0313725508749485, 0.0, 0.0, 0.0, 0.0, 0.0, 0.0, 0.0, 0.0, 0.0, 0.0, 0.0, 0.0, 0.41960787773132324, 0.9921569228172302, 0.9921569228172302, 0.9921569228172302, 0.8000000715255737, 0.05882353335618973, 0.0, 0.0, 0.0, 0.0, 0.08235294371843338, 0.6509804129600525, 0.9921569228172302, 0.9921569228172302, 0.9921569228172302, 0.8313726186752319, 0.09803922474384308, 0.0, 0.0, 0.0, 0.0, 0.0, 0.0, 0.0, 0.0, 0.0, 0.0, 0.12941177189350128, 0.8509804606437683, 0.9921569228172302, 0.9921569228172302, 0.5176470875740051, 0.250980406999588, 0.0, 0.0, 0.07058823853731155, 0.16862745583057404, 0.615686297416687, 0.6705882549285889, 0.9921569228172302, 0.9921569228172302, 0.9921569228172302, 0.9921569228172302, 0.9921569228172302, 0.6274510025978088, 0.007843137718737125, 0.0, 0.0, 0.0, 0.0, 0.0, 0.0, 0.0, 0.0, 0.011764707043766975, 0.6509804129600525, 0.9921569228172302, 0.9921569228172302, 0.9490196704864502, 0.19215688109397888, 0.06666667014360428, 0.19215688109397888, 0.6196078658103943, 0.8235294818878174, 0.9960784912109375, 0.9921569228172302, 0.9921569228172302, 0.9921569228172302, 0.9921569228172302, 0.9921569228172302, 0.9921569228172302, 0.9921569228172302, 0.9921569228172302, 0.04313725605607033, 0.0, 0.0, 0.0, 0.0, 0.0, 0.0, 0.0, 0.0, 0.03921568766236305, 0.8901961445808411, 0.9921569228172302, 0.9921569228172302, 0.8117647767066956, 0.05882353335618973, 0.6745098233222961, 0.9921569228172302, 0.9921569228172302, 0.9921569228172302, 0.9960784912109375, 0.9686275124549866, 0.7882353663444519, 0.9921569228172302, 0.8235294818878174, 0.8235294818878174, 0.9921569228172302, 0.9921569228172302, 0.686274528503418, 0.01568627543747425, 0.0, 0.0, 0.0, 0.0, 0.0, 0.0, 0.0, 0.0, 0.03921568766236305, 0.8941177129745483, 0.9921569228172302, 0.9921569228172302, 0.8784314393997192, 0.34117648005485535, 0.9490196704864502, 0.9921569228172302, 0.9921569228172302, 0.7215686440467834, 0.2352941334247589, 0.21176472306251526, 0.03529411926865578, 0.2352941334247589, 0.13725490868091583, 0.7137255072593689, 0.9921569228172302, 0.9921569228172302, 0.2039215862751007, 0.0, 0.0, 0.0, 0.0, 0.0, 0.0, 0.0, 0.0, 0.0, 0.05098039656877518, 0.9921569228172302, 0.9921569228172302, 0.9921569228172302, 0.9921569228172302, 0.9058824181556702, 0.9921569228172302, 0.9921569228172302, 0.9921569228172302, 0.364705890417099, 0.33725491166114807, 0.33725491166114807, 0.33725491166114807, 0.4274510145187378, 0.8509804606437683, 0.9921569228172302, 0.9921569228172302, 0.5254902243614197, 0.019607843831181526, 0.0, 0.0, 0.0, 0.0, 0.0, 0.0, 0.0, 0.0, 0.0, 0.007843137718737125, 0.45098042488098145, 0.9921569228172302, 0.9921569228172302, 0.9921569228172302, 0.9921569228172302, 0.9921569228172302, 0.9921569228172302, 0.9921569228172302, 0.9921569228172302, 0.9960784912109375, 0.9921569228172302, 0.9921569228172302, 0.9921569228172302, 0.9921569228172302, 0.9921569228172302, 0.5254902243614197, 0.019607843831181526, 0.0, 0.0, 0.0, 0.0, 0.0, 0.0, 0.0, 0.0, 0.0, 0.0, 0.0, 0.011764707043766975, 0.6509804129600525, 0.9921569228172302, 0.9921569228172302, 0.9921569228172302, 0.9921569228172302, 0.9921569228172302, 0.9921569228172302, 0.9921569228172302, 0.9960784912109375, 0.9921569228172302, 0.9921569228172302, 0.9921569228172302, 0.686274528503418, 0.2039215862751007, 0.019607843831181526, 0.0, 0.0, 0.0, 0.0, 0.0, 0.0, 0.0, 0.0, 0.0, 0.0, 0.0, 0.0, 0.0, 0.027450982481241226, 0.13725490868091583, 0.5176470875740051, 0.8823530077934265, 0.9921569228172302, 0.9921569228172302, 0.9921569228172302, 0.7647059559822083, 0.5176470875740051, 0.5176470875740051, 0.5176470875740051, 0.43137258291244507, 0.01568627543747425, 0.0, 0.0, 0.0, 0.0, 0.0, 0.0, 0.0, 0.0, 0.0, 0.0, 0.0, 0.0, 0.0, 0.0, 0.0, 0.0, 0.0, 0.0, 0.0, 0.0, 0.0, 0.0, 0.0, 0.0, 0.0, 0.0, 0.0, 0.0, 0.0, 0.0, 0.0, 0.0, 0.0, 0.0, 0.0, 0.0, 0.0, 0.0, 0.0, 0.0, 0.0, 0.0, 0.0, 0.0, 0.0, 0.0, 0.0, 0.0, 0.0, 0.0, 0.0, 0.0, 0.0, 0.0, 0.0, 0.0, 0.0, 0.0, 0.0, 0.0, 0.0, 0.0, 0.0, 0.0, 0.0, 0.0, 0.0, 0.0, 0.0, 0.0, 0.0, 0.0, 0.0, 0.0, 0.0, 0.0, 0.0, 0.0, 0.0, 0.0, 0.0, 0.0, 0.0, 0.0, 0.0, 0.0, 0.0, 0.0, 0.0, 0.0, 0.0, 0.0, 0.0, 0.0, 0.0, 0.0, 0.0, 0.0, 0.0, 0.0, 0.0, 0.0, 0.0, 0.0, 0.0, 0.0, 0.0, 0.0, 0.0, 0.0, 0.0, 0.0, 0.0, 0.0, 0.0, 0.0, 0.0, 0.0, 0.0, 0.0, 0.0, 0.0, 0.0, 0.0, 0.0, 0.0, 0.0, 0.0, 0.0, 0.0, 0.0, 0.0, 0.0, 0.0, 0.0, 0.0, 0.0, 0.0, 0.0, 0.0, 0.0, 0.0, 0.0, 0.0, 0.0, 0.0, 0.0, 0.0, 0.0, 0.0, 0.0, 0.0, 0.0, 0.0, 0.0, 0.0, 0.0, 0.0, 0.0, 0.0, 0.0, 0.0, 0.0, 0.0, 0.0, 0.0, 0.0, 0.0, 0.0, 0.0, 0.0, 0.0, 0.0, 0.0, 0.0, 0.0] }\n"
     ]
    }
   ],
   "source": [
    "prefix = \"{\\\"body\\\":\"\n",
    "suffix = \"}\"\n",
    "body = finalNumpyArray[index].tolist()\n",
    "print(prefix,body,suffix)      "
   ]
  },
  {
   "cell_type": "code",
   "execution_count": null,
   "id": "meaning-friendship",
   "metadata": {},
   "outputs": [],
   "source": []
  }
 ],
 "metadata": {
  "kernelspec": {
   "display_name": "conda_python3",
   "language": "python",
   "name": "conda_python3"
  },
  "language_info": {
   "codemirror_mode": {
    "name": "ipython",
    "version": 3
   },
   "file_extension": ".py",
   "mimetype": "text/x-python",
   "name": "python",
   "nbconvert_exporter": "python",
   "pygments_lexer": "ipython3",
   "version": "3.6.13"
  }
 },
 "nbformat": 4,
 "nbformat_minor": 5
}
